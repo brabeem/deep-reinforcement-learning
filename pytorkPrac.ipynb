{
 "cells": [
  {
   "cell_type": "code",
   "execution_count": 4,
   "metadata": {},
   "outputs": [
    {
     "name": "stdout",
     "output_type": "stream",
     "text": [
      "25\n",
      "<function square at 0x7ff3e80a59e0>\n"
     ]
    }
   ],
   "source": [
    "def square(x):\n",
    "    return x*x\n",
    "f = square\n",
    "print(f(5))\n",
    "print(f)"
   ]
  },
  {
   "cell_type": "code",
   "execution_count": 6,
   "metadata": {},
   "outputs": [
    {
     "name": "stdout",
     "output_type": "stream",
     "text": [
      "140036740401104\n",
      "140036740401104\n",
      "140036502394912\n",
      "[1, 2, 3, 4]\n"
     ]
    }
   ],
   "source": [
    "                         ##ASSIGNMENT IS THE MASTER , IF YOU WANNA MASTER THE POINTERS IN PYTHON##\n",
    "##practicing function behaviors as you pass parameters through a function##\n",
    "def func(l):\n",
    "    print(id(l))\n",
    "    l = l + [\"a\",]\n",
    "    print(id(l))\n",
    "    myList = [1,2,3,4]\n",
    "    print(id(myList)) \n",
    "    func(myList)\n",
    "    print(myList)\n",
    "\n",
    "##mutablity DOESN'T play any role here##\n",
    "##if you have assigned the variable to some other memory location by using assignment operator then the reference##\n",
    "##to the orginal variable is lost##"
   ]
  },
  {
   "cell_type": "code",
   "execution_count": 12,
   "metadata": {},
   "outputs": [
    {
     "name": "stdout",
     "output_type": "stream",
     "text": [
      "140036739979136\n",
      "[[1, 2, 3], [11, 22, 33, 'c']]\n",
      "140036739979456\n",
      "[[1, 2, 3], [11, 22, 33]]\n",
      "Printing id of elements of the lists->\n",
      "140036740016320\n",
      "140036739979536\n"
     ]
    }
   ],
   "source": [
    "##every object has a name which is a pointer to that object##\n",
    "##to make a copy of an object is quite a difficult task,use a function called copy##\n",
    "##which copies the object but the pointers to the content object are same##\n",
    "##SO it wont work in list of lists and such complex structures##\n",
    "##that is why we use deepcopy in such case##\n",
    "import copy\n",
    "a = [[1,2,3],[11,22,33]]\n",
    "b = copy.deepcopy(a)\n",
    "b[1].append('c')\n",
    "print(id(b))\n",
    "print(b)\n",
    "print(id(a))\n",
    "print(a)\n",
    "print(\"Printing id of elements of the lists->\")\n",
    "print(id(a[0]))\n",
    "print(id(b[0]))\n",
    "\n"
   ]
  },
  {
   "cell_type": "code",
   "execution_count": 1,
   "metadata": {},
   "outputs": [],
   "source": [
    "#nn.module includes the blocks computational graph\n",
    "import torch\n",
    "import torch.nn as nn\n",
    "import torch.nn.functional as F\n",
    "import matplotlib.pyplot as plt\n",
    "import numpy as np\n",
    "import sys\n",
    "import time"
   ]
  },
  {
   "cell_type": "code",
   "execution_count": 2,
   "metadata": {},
   "outputs": [
    {
     "name": "stdout",
     "output_type": "stream",
     "text": [
      "torch.Size([132, 67])\n"
     ]
    }
   ],
   "source": [
    "np.arange(5)\n",
    "##torch.cat() practice##\n",
    "#a = torch.ones((132,64))\n",
    "#b = torch.zeros((132,3))\n",
    "#c = torch.cat((a,b),dim=1)\n",
    "print(c.shape)\n"
   ]
  },
  {
   "cell_type": "code",
   "execution_count": 23,
   "metadata": {},
   "outputs": [
    {
     "name": "stdout",
     "output_type": "stream",
     "text": [
      "(tensor([1., 1.]), tensor([0., 0., 0.]))\n",
      "(tensor([1., 1.]), tensor([0., 0., 0.]))\n",
      "(tensor([1., 1.]), tensor([0., 0., 0.]))\n",
      "(tensor([1., 1.]), tensor([0., 0., 0.]))\n",
      "(tensor([1., 1.]), tensor([0., 0., 0.]))\n",
      "(tensor([1., 1.]), tensor([0., 0., 0.]))\n",
      "(tensor([1., 1.]), tensor([0., 0., 0.]))\n",
      "(tensor([1., 1.]), tensor([0., 0., 0.]))\n",
      "(tensor([1., 1.]), tensor([0., 0., 0.]))\n",
      "(tensor([1., 1.]), tensor([0., 0., 0.]))\n"
     ]
    }
   ],
   "source": [
    "##ZIP practice##\n",
    "ones_ok = torch.ones((10,2))\n",
    "zeros_ok = torch.zeros((10,3))\n",
    "for tog in zip(ones_ok,zeros_ok):\n",
    "    print(tog)\n"
   ]
  },
  {
   "cell_type": "code",
   "execution_count": 10,
   "metadata": {},
   "outputs": [
    {
     "name": "stdout",
     "output_type": "stream",
     "text": [
      " 4"
     ]
    }
   ],
   "source": [
    "##learning to print ##\n",
    "for i in range(5):\n",
    "    print(\"\\r\",i,end=\"\")\n",
    "    time.sleep(1)"
   ]
  },
  {
   "cell_type": "code",
   "execution_count": 33,
   "metadata": {},
   "outputs": [
    {
     "name": "stdout",
     "output_type": "stream",
     "text": [
      "0\n",
      "1\n",
      "2\n",
      "3\n",
      "4\n"
     ]
    }
   ],
   "source": [
    "for i in range(5):\n",
    "    print(i)\n",
    "    #sys.stdout.flush()\n",
    "    time.sleep(.001)\n"
   ]
  },
  {
   "cell_type": "code",
   "execution_count": 18,
   "metadata": {},
   "outputs": [
    {
     "name": "stdout",
     "output_type": "stream",
     "text": [
      "0.0\n",
      "0.5\n",
      "1.5\n",
      "2.5\n",
      "3.5\n"
     ]
    },
    {
     "data": {
      "text/plain": [
       "[<matplotlib.lines.Line2D at 0x7f52a9342910>]"
      ]
     },
     "execution_count": 18,
     "metadata": {},
     "output_type": "execute_result"
    },
    {
     "data": {
      "image/png": "[encoded data removed]",
      "text/plain": [
       "<Figure size 432x288 with 2 Axes>"
      ]
     },
     "metadata": {
      "needs_background": "light"
     },
     "output_type": "display_data"
    }
   ],
   "source": [
    "from collections import deque\n",
    "a = deque([],maxlen=2)\n",
    "for i in range(5):\n",
    "    a.append(i)\n",
    "    print(np.mean(a))\n",
    "\n",
    "plt.subplot(211)\n",
    "plt.plot([1,2,3,4],[10,20,30,40])\n",
    "plt.subplot(212)\n",
    "plt.plot([1,2,3,4],[10,20,30,40])\n"
   ]
  },
  {
   "cell_type": "code",
   "execution_count": 1,
   "metadata": {},
   "outputs": [],
   "source": [
    "\"\"\"\n",
    "\tThis file contains a neural network module for us to\n",
    "\tdefine our actor and critic networks in PPO.\n",
    "\"\"\"\n",
    "\n",
    "import torch\n",
    "from torch import nn\n",
    "import torch.nn.functional as F\n",
    "import numpy as np\n",
    "\n",
    "class FeedForwardNN(nn.Module):\n",
    "\t\"\"\"\n",
    "\t\tA standard in_dim-64-64-out_dim Feed Forward Neural Network.\n",
    "\t\"\"\"\n",
    "\tdef __init__(self, in_dim, out_dim):\n",
    "\t\t\"\"\"\n",
    "\t\t\tInitialize the network and set up the layers.\n",
    "\n",
    "\t\t\tParameters:\n",
    "\t\t\t\tin_dim - input dimensions as an int\n",
    "\t\t\t\tout_dim - output dimensions as an int\n",
    "\n",
    "\t\t\tReturn:\n",
    "\t\t\t\tNone\n",
    "\t\t\"\"\"\n",
    "\t\tsuper(FeedForwardNN, self).__init__()\n",
    "\n",
    "\t\tself.layer1 = nn.Linear(in_dim, 64)\n",
    "\t\tself.layer2 = nn.Linear(64, 64)\n",
    "\t\tself.layer3 = nn.Linear(64, out_dim)\n",
    "\n",
    "\tdef forward(self, obs):\n",
    "\t\t\"\"\"\n",
    "\t\t\tRuns a forward pass on the neural network.\n",
    "\n",
    "\t\t\tParameters:\n",
    "\t\t\t\tobs - observation to pass as input\n",
    "\n",
    "\t\t\tReturn:\n",
    "\t\t\t\toutput - the output of our forward pass\n",
    "\t\t\"\"\"\n",
    "\t\t# Convert observation to tensor if it's a numpy array\n",
    "\t\tif isinstance(obs, np.ndarray):\n",
    "\t\t\tobs = torch.tensor(obs, dtype=torch.float)\n",
    "\n",
    "\t\tactivation1 = F.relu(self.layer1(obs))\n",
    "\t\tactivation2 = F.relu(self.layer2(activation1))\n",
    "\t\toutput = self.layer3(activation2)\n",
    "\n",
    "\t\treturn output\n"
   ]
  },
  {
   "cell_type": "code",
   "execution_count": 28,
   "metadata": {},
   "outputs": [
    {
     "name": "stdout",
     "output_type": "stream",
     "text": [
      "torch.Size([64, 3])\n",
      "torch.Size([64, 3])\n",
      "tensor([[-0.0682,  0.1105, -0.0034],\n",
      "        [-0.1133, -0.0590, -0.0779],\n",
      "        [-0.0527, -0.0489, -0.0689],\n",
      "        [ 0.0757,  0.1129,  0.1109],\n",
      "        [-0.0943, -0.0445,  0.0223],\n",
      "        [ 0.0285, -0.0187, -0.0256],\n",
      "        [-0.0162, -0.1226,  0.0319],\n",
      "        [ 0.0225,  0.1029,  0.0944],\n",
      "        [-0.0925,  0.0200,  0.0218],\n",
      "        [-0.0387,  0.0656, -0.0699],\n",
      "        [-0.0156,  0.0410,  0.0158],\n",
      "        [ 0.0253, -0.0818,  0.0989],\n",
      "        [-0.0744,  0.0631, -0.0913],\n",
      "        [ 0.0592,  0.0929,  0.0885],\n",
      "        [-0.1205,  0.1126,  0.0893],\n",
      "        [ 0.0838,  0.0755, -0.0779],\n",
      "        [-0.1116,  0.0247, -0.0940],\n",
      "        [-0.0999,  0.0573,  0.0376],\n",
      "        [ 0.0959, -0.0810,  0.0409],\n",
      "        [-0.0835,  0.0392,  0.1219],\n",
      "        [ 0.1245,  0.0478, -0.0871],\n",
      "        [ 0.0610, -0.0076,  0.1100],\n",
      "        [ 0.0350, -0.0401, -0.0253],\n",
      "        [ 0.1195, -0.0811, -0.0827],\n",
      "        [-0.0954, -0.1152,  0.0286],\n",
      "        [-0.1031, -0.0015, -0.1181],\n",
      "        [ 0.0993, -0.0638,  0.0729],\n",
      "        [-0.0489, -0.0265,  0.0666],\n",
      "        [ 0.0487, -0.1088, -0.1091],\n",
      "        [ 0.0507, -0.1192, -0.1088],\n",
      "        [-0.1116, -0.0468,  0.0653],\n",
      "        [-0.0748,  0.0696, -0.0241],\n",
      "        [-0.0864,  0.0773, -0.0265],\n",
      "        [-0.1025, -0.0228, -0.0821],\n",
      "        [-0.1068,  0.0905, -0.0812],\n",
      "        [-0.0463,  0.0768, -0.0014],\n",
      "        [-0.0495, -0.0490, -0.0570],\n",
      "        [-0.1013,  0.0192, -0.0338],\n",
      "        [ 0.1004, -0.0362, -0.0093],\n",
      "        [-0.0828,  0.0732, -0.0109],\n",
      "        [-0.0512, -0.0997, -0.1035],\n",
      "        [-0.0326,  0.0752,  0.0038],\n",
      "        [ 0.0111,  0.0914, -0.1126],\n",
      "        [-0.0818, -0.0670, -0.0135],\n",
      "        [ 0.1086, -0.0709,  0.0101],\n",
      "        [ 0.0250,  0.1139,  0.0644],\n",
      "        [ 0.1069,  0.0314, -0.0550],\n",
      "        [ 0.0049, -0.1174, -0.0527],\n",
      "        [-0.0221,  0.0990, -0.0943],\n",
      "        [-0.0054, -0.0734,  0.0864],\n",
      "        [ 0.1096,  0.0499,  0.1170],\n",
      "        [ 0.0300, -0.0736,  0.0367],\n",
      "        [-0.0867, -0.0162,  0.1117],\n",
      "        [ 0.0962,  0.0744,  0.1236],\n",
      "        [ 0.1093, -0.1197, -0.0841],\n",
      "        [-0.1245, -0.0205,  0.0785],\n",
      "        [ 0.0882, -0.0176, -0.0922],\n",
      "        [-0.0948,  0.0985,  0.0906],\n",
      "        [ 0.0500, -0.0944, -0.0443],\n",
      "        [-0.0635, -0.0568,  0.0294],\n",
      "        [-0.1197,  0.0425, -0.1195],\n",
      "        [ 0.0159, -0.0438,  0.0326],\n",
      "        [ 0.0333,  0.1199,  0.0543],\n",
      "        [-0.1006,  0.0020, -0.0004]])\n"
     ]
    }
   ],
   "source": [
    "actor = FeedForwardNN(3,4)\n",
    "actor.layer1.weight.data.uniform_(0,1.0)\n",
    "print(actor.layer1.weight.data.shape)##attribute##\n",
    "print(actor.layer1.weight.data.size())##method to access the attribute##\n",
    "dim = actor.layer1.weight.data.shape[0]\n",
    "mag_num  = 1.0 /(torch.sqrt(torch.tensor(dim)))\n",
    "actor.layer1.weight.data.uniform_(*(-mag_num,mag_num))\n",
    "print(actor.layer1.weight.data)"
   ]
  },
  {
   "cell_type": "code",
   "execution_count": 43,
   "metadata": {},
   "outputs": [
    {
     "name": "stdout",
     "output_type": "stream",
     "text": [
      "100.0\n",
      "(5,)\n",
      "(5, 1)\n",
      "deque([0], maxlen=3)\n",
      "deque([0, 1], maxlen=3)\n",
      "deque([0, 1, 2], maxlen=3)\n",
      "deque([1, 2, 3], maxlen=3)\n",
      "deque([2, 3, 4], maxlen=3)\n",
      "deque([3, 4, 5], maxlen=3)\n",
      "deque([4, 5, 6], maxlen=3)\n",
      "deque([5, 6, 7], maxlen=3)\n",
      "deque([6, 7, 8], maxlen=3)\n",
      "deque([7, 8, 9], maxlen=3)\n",
      "deque([7, 8, 9], maxlen=3)\n",
      "deque([0], maxlen=3)\n",
      "deque([0, 1], maxlen=3)\n",
      "deque([0, 1, 2], maxlen=3)\n",
      "deque([1, 2, 3], maxlen=3)\n",
      "deque([2, 3, 4], maxlen=3)\n",
      "deque([3, 4, 5], maxlen=3)\n",
      "deque([4, 5, 6], maxlen=3)\n",
      "deque([5, 6, 7], maxlen=3)\n",
      "deque([6, 7, 8], maxlen=3)\n",
      "deque([7, 8, 9], maxlen=3)\n"
     ]
    }
   ],
   "source": [
    "#actor.layer1.weight.data.uniform_(0,1)\n",
    "#e here definately refers  to 10^sth\n",
    "print(1e2)\n",
    "##why do np.vstack instead of np.array##\n",
    "print(np.array([i for i in range(5)]).shape)\n",
    "print(np.vstack([i for i in range(5)]).shape)\n",
    "from collections import deque\n",
    "a = deque([],maxlen=3)\n",
    "for i in range(10):\n",
    "    a.append(i)\n",
    "    print(a)\n",
    "\n",
    "print(a)\n",
    "\n",
    "b = deque(maxlen=3)\n",
    "for i in range(10):\n",
    "    b.append(i)\n",
    "    print(b)"
   ]
  },
  {
   "cell_type": "code",
   "execution_count": 6,
   "metadata": {},
   "outputs": [
    {
     "name": "stdout",
     "output_type": "stream",
     "text": [
      "tensor(1)\n",
      "tensor(-0.6931)\n"
     ]
    }
   ],
   "source": [
    "from torch.distributions import Categorical\n",
    "cat = Categorical(torch.tensor([0.2,0.5,0.1,0.2]))\n",
    "m = cat.sample()\n",
    "\n",
    "print(m)\n",
    "print(cat.log_prob(torch.tensor(m)))"
   ]
  },
  {
   "cell_type": "code",
   "execution_count": 44,
   "metadata": {},
   "outputs": [
    {
     "data": {
      "text/plain": [
       "tensor([[ 0.5000,  0.0000,  0.0000],\n",
       "        [ 0.0000,  0.5000,  0.0000],\n",
       "        [ 0.0000,  0.0000,  0.5000]])"
      ]
     },
     "execution_count": 44,
     "metadata": {},
     "output_type": "execute_result"
    }
   ],
   "source": [
    "a = torch.full((3,),0.5)\n",
    "torch.diag(a,0)"
   ]
  },
  {
   "cell_type": "code",
   "execution_count": 7,
   "metadata": {},
   "outputs": [
    {
     "data": {
      "text/plain": [
       "tensor([2, 2, 3, 3])"
      ]
     },
     "execution_count": 7,
     "metadata": {},
     "output_type": "execute_result"
    }
   ],
   "source": [
    "torch.clamp(torch.tensor([1,2,3,4]),min=2,max=3)"
   ]
  },
  {
   "cell_type": "code",
   "execution_count": 29,
   "metadata": {},
   "outputs": [],
   "source": [
    "class Net(nn.Module):#under nn_module class parameters are tracked for gradient calculation\n",
    "    def __init__(self,in_layers,out_layers):\n",
    "        super(Net,self).__init__()\n",
    "        self.in_layers = in_layers\n",
    "        self.out_layers = out_layers\n",
    "        self.fc1 = nn.Linear(self.in_layers,32)\n",
    "        self.fc2 = nn.Linear(32,32)\n",
    "        self.fc3 = nn.Linear(32,out_layers)\n",
    "    \n",
    "    def forward(self,x):\n",
    "        x = F.relu(self.fc1(x))\n",
    "        x = F.relu(self.fc2(x))\n",
    "        x = self.fc3(x)\n",
    "        return x"
   ]
  },
  {
   "cell_type": "code",
   "execution_count": 30,
   "metadata": {},
   "outputs": [],
   "source": [
    "net = Net(in_layers=1,out_layers=1)"
   ]
  },
  {
   "cell_type": "code",
   "execution_count": 31,
   "metadata": {},
   "outputs": [
    {
     "name": "stdout",
     "output_type": "stream",
     "text": [
      "Net(\n",
      "  (fc1): Linear(in_features=1, out_features=32, bias=True)\n",
      "  (fc2): Linear(in_features=32, out_features=32, bias=True)\n",
      "  (fc3): Linear(in_features=32, out_features=1, bias=True)\n",
      ")\n"
     ]
    }
   ],
   "source": [
    "print(net)"
   ]
  },
  {
   "cell_type": "code",
   "execution_count": 38,
   "metadata": {},
   "outputs": [
    {
     "name": "stdout",
     "output_type": "stream",
     "text": [
      "torch.Size([100, 1])\n"
     ]
    }
   ],
   "source": [
    "x = torch.ones((100,1))#whatever you enter first dimension it takes it as a batch\n",
    "y = net(x)#here it means 100 in a batch and 1 input for each example \n",
    "print(y.shape)#ouput also in same format batch * num_out_layers"
   ]
  },
  {
   "cell_type": "code",
   "execution_count": 39,
   "metadata": {},
   "outputs": [
    {
     "data": {
      "text/plain": [
       "[<matplotlib.lines.Line2D at 0x7f3b684a50d0>]"
      ]
     },
     "execution_count": 39,
     "metadata": {},
     "output_type": "execute_result"
    },
    {
     "data": {
      "image/png": "[encoded data removed]",
      "text/plain": [
       "<Figure size 432x288 with 1 Axes>"
      ]
     },
     "metadata": {
      "needs_background": "light"
     },
     "output_type": "display_data"
    }
   ],
   "source": [
    "plt.plot(x.detach().numpy(),y.detach().numpy())"
   ]
  },
  {
   "cell_type": "code",
   "execution_count": 44,
   "metadata": {},
   "outputs": [
    {
     "name": "stdout",
     "output_type": "stream",
     "text": [
      "int64\n",
      "torch.int64\n",
      "int64\n"
     ]
    }
   ],
   "source": [
    "#from numpy to pytorch -> #torch.sigmoid / torch.relu / torch.softmax\n",
    "x = np.random.randint((1,2))\n",
    "print(x.dtype)\n",
    "x = torch.from_numpy(x)\n",
    "print(x.dtype)\n",
    "#from pytorch to numpy\n",
    "x = x.numpy()\n",
    "print(x.dtype)"
   ]
  },
  {
   "cell_type": "code",
   "execution_count": 46,
   "metadata": {},
   "outputs": [],
   "source": [
    "#gradients and backprop\n",
    "X = torch.tensor([1.,2.,3.],requires_grad = True) #default value of requires_grad is False for pytorch tensor\n",
    "Y = torch.ones((3,),requires_grad=True)"
   ]
  },
  {
   "cell_type": "code",
   "execution_count": 47,
   "metadata": {},
   "outputs": [
    {
     "name": "stdout",
     "output_type": "stream",
     "text": [
      "tensor([1., 2., 3.], requires_grad=True)\n"
     ]
    }
   ],
   "source": [
    "print(X)"
   ]
  },
  {
   "cell_type": "code",
   "execution_count": 48,
   "metadata": {},
   "outputs": [
    {
     "name": "stdout",
     "output_type": "stream",
     "text": [
      "tensor([1., 2., 3.])\n",
      "None\n"
     ]
    }
   ],
   "source": [
    "print(X.data)#since requires grad is True here keeps track of data and grad as attribute\n",
    "print(X.grad)#gradient none since not backpropagated yet"
   ]
  },
  {
   "cell_type": "code",
   "execution_count": 49,
   "metadata": {},
   "outputs": [],
   "source": [
    "loss = ((X - Y)**2).sum() "
   ]
  },
  {
   "cell_type": "code",
   "execution_count": 50,
   "metadata": {},
   "outputs": [
    {
     "name": "stdout",
     "output_type": "stream",
     "text": [
      "tensor(5., grad_fn=<SumBackward0>)\n"
     ]
    }
   ],
   "source": [
    "print(loss)"
   ]
  },
  {
   "cell_type": "code",
   "execution_count": 51,
   "metadata": {},
   "outputs": [
    {
     "name": "stdout",
     "output_type": "stream",
     "text": [
      "<SumBackward0 object at 0x7f3b68465e90>\n"
     ]
    }
   ],
   "source": [
    "print(loss.grad_fn)"
   ]
  },
  {
   "cell_type": "code",
   "execution_count": 52,
   "metadata": {},
   "outputs": [],
   "source": [
    "loss.backward()"
   ]
  },
  {
   "cell_type": "code",
   "execution_count": 53,
   "metadata": {},
   "outputs": [
    {
     "name": "stdout",
     "output_type": "stream",
     "text": [
      "tensor([0., 2., 4.])\n"
     ]
    }
   ],
   "source": [
    "print(X.grad)"
   ]
  },
  {
   "cell_type": "code",
   "execution_count": 54,
   "metadata": {},
   "outputs": [
    {
     "name": "stdout",
     "output_type": "stream",
     "text": [
      "tensor([-0., -2., -4.])\n"
     ]
    }
   ],
   "source": [
    "print(Y.grad)"
   ]
  },
  {
   "cell_type": "code",
   "execution_count": 55,
   "metadata": {},
   "outputs": [],
   "source": [
    "#main thing to note is it goes on tracking the variables with requires_grad = True and\n",
    "#builds a computation graph out of them whenever we do sth.backward() the var.grad of the\n",
    "#variable with requires_grad=True is filled with gradient w.r.t sth"
   ]
  },
  {
   "cell_type": "code",
   "execution_count": 56,
   "metadata": {},
   "outputs": [],
   "source": [
    "#another important thing to keep note of is gradients accumulate in pytorch.\n",
    "#That means calling sth.backward() many times on the same computation graph is just gonna \n",
    "#the same gradient as many times as you call them\n",
    "#It is mostly useful when you have many loss functions as depending on the same variable \n",
    "#and when you backpropagate you wanna make sure that the gradients from both the loss \n",
    "#functions are considered by the variable on the computation graph.\n",
    "#you can do this by calling loss.backward() and other_loss.backward() "
   ]
  },
  {
   "cell_type": "code",
   "execution_count": 57,
   "metadata": {},
   "outputs": [
    {
     "name": "stdout",
     "output_type": "stream",
     "text": [
      "tensor([1., 2., 3.], requires_grad=True)\n"
     ]
    }
   ],
   "source": [
    "#what if you want to perform a calculation with the variable whose requires_gradient = True\n",
    "#but you want want it to be in the computation graph for gradient calculation\n",
    "print(X)"
   ]
  },
  {
   "cell_type": "code",
   "execution_count": 58,
   "metadata": {},
   "outputs": [
    {
     "name": "stdout",
     "output_type": "stream",
     "text": [
      "tensor([1., 2., 3.])\n"
     ]
    }
   ],
   "source": [
    "print(X.detach())#see the difference "
   ]
  },
  {
   "cell_type": "code",
   "execution_count": 60,
   "metadata": {},
   "outputs": [
    {
     "name": "stdout",
     "output_type": "stream",
     "text": [
      "None\n",
      "tensor([0., 2., 4.])\n"
     ]
    }
   ],
   "source": [
    "print(X.detach().grad)#see no grad tracked for this; you can use this for prediction\n",
    "print(X.grad)"
   ]
  },
  {
   "cell_type": "code",
   "execution_count": 61,
   "metadata": {},
   "outputs": [],
   "source": [
    "#but X.detach() and X use the same memory space so mutating X.detach() mutates X whose \n",
    "#gradients are tracked so performing mutating operation on X.detach() pops err \n",
    "#to use a different memory location completely we can do X.detach().clone()\n",
    "X_detached = X.detach().clone()"
   ]
  },
  {
   "cell_type": "code",
   "execution_count": 63,
   "metadata": {},
   "outputs": [
    {
     "name": "stdout",
     "output_type": "stream",
     "text": [
      "fc1.weight torch.Size([32, 1])\n",
      "fc1.bias torch.Size([32])\n",
      "fc2.weight torch.Size([32, 32])\n",
      "fc2.bias torch.Size([32])\n",
      "fc3.weight torch.Size([1, 32])\n",
      "fc3.bias torch.Size([1])\n"
     ]
    }
   ],
   "source": [
    "for name,p in net.named_parameters():\n",
    "    print(name,p.shape)"
   ]
  },
  {
   "cell_type": "code",
   "execution_count": 64,
   "metadata": {},
   "outputs": [
    {
     "name": "stdout",
     "output_type": "stream",
     "text": [
      "torch.Size([32, 1])\n",
      "torch.Size([32])\n",
      "torch.Size([32, 32])\n",
      "torch.Size([32])\n",
      "torch.Size([1, 32])\n",
      "torch.Size([1])\n"
     ]
    }
   ],
   "source": [
    "for p in net.parameters():\n",
    "    print(p.shape)"
   ]
  },
  {
   "cell_type": "code",
   "execution_count": 70,
   "metadata": {},
   "outputs": [],
   "source": [
    "X = torch.from_numpy(np.random.randn(1000,1)).to(torch.float32)\n",
    "Y_target = torch.sin(X)"
   ]
  },
  {
   "cell_type": "code",
   "execution_count": 71,
   "metadata": {},
   "outputs": [],
   "source": [
    "for _ in range(1000):\n",
    "    Y = net(X)\n",
    "    loss = ((Y_target - Y)**2).sum()\n",
    "    loss.backward()\n",
    "    for p in net.parameters():\n",
    "        p.data.add_(-0.001 * p.grad)\n",
    "    p.grad.data.zero_()"
   ]
  },
  {
   "cell_type": "code",
   "execution_count": 73,
   "metadata": {},
   "outputs": [
    {
     "data": {
      "text/plain": [
       "[<matplotlib.lines.Line2D at 0x7f3b68405a90>]"
      ]
     },
     "execution_count": 73,
     "metadata": {},
     "output_type": "execute_result"
    },
    {
     "data": {
      "image/png": "[encoded data removed]",
      "text/plain": [
       "<Figure size 432x288 with 1 Axes>"
      ]
     },
     "metadata": {
      "needs_background": "light"
     },
     "output_type": "display_data"
    }
   ],
   "source": [
    "Y = net(X)\n",
    "plt.plot(X.detach().numpy(),Y.detach().numpy())"
   ]
  },
  {
   "cell_type": "code",
   "execution_count": 75,
   "metadata": {},
   "outputs": [],
   "source": [
    "#the same thing done in a more general way\n",
    "x = torch.linspace(-5,5,100).view(-1,1)\n",
    "y_target = torch.sin(x)\n",
    "loss_fn = nn.MSELoss()\n",
    "optimizer = torch.optim.Adam(net.parameters(),lr=1e-3)"
   ]
  },
  {
   "cell_type": "code",
   "execution_count": 78,
   "metadata": {},
   "outputs": [],
   "source": [
    "for _ in range(1000):\n",
    "    y = net(x)\n",
    "    loss = loss_fn(y,y_target)\n",
    "    optimizer.zero_grad()\n",
    "    loss.backward()\n",
    "    optimizer.step()\n",
    "    "
   ]
  },
  {
   "cell_type": "code",
   "execution_count": 83,
   "metadata": {},
   "outputs": [
    {
     "name": "stdout",
     "output_type": "stream",
     "text": [
      "tensor([[nan],\n",
      "        [nan],\n",
      "        [nan],\n",
      "        [nan],\n",
      "        [nan],\n",
      "        [nan],\n",
      "        [nan],\n",
      "        [nan],\n",
      "        [nan],\n",
      "        [nan],\n",
      "        [nan],\n",
      "        [nan],\n",
      "        [nan],\n",
      "        [nan],\n",
      "        [nan],\n",
      "        [nan],\n",
      "        [nan],\n",
      "        [nan],\n",
      "        [nan],\n",
      "        [nan],\n",
      "        [nan],\n",
      "        [nan],\n",
      "        [nan],\n",
      "        [nan],\n",
      "        [nan],\n",
      "        [nan],\n",
      "        [nan],\n",
      "        [nan],\n",
      "        [nan],\n",
      "        [nan],\n",
      "        [nan],\n",
      "        [nan],\n",
      "        [nan],\n",
      "        [nan],\n",
      "        [nan],\n",
      "        [nan],\n",
      "        [nan],\n",
      "        [nan],\n",
      "        [nan],\n",
      "        [nan],\n",
      "        [nan],\n",
      "        [nan],\n",
      "        [nan],\n",
      "        [nan],\n",
      "        [nan],\n",
      "        [nan],\n",
      "        [nan],\n",
      "        [nan],\n",
      "        [nan],\n",
      "        [nan],\n",
      "        [nan],\n",
      "        [nan],\n",
      "        [nan],\n",
      "        [nan],\n",
      "        [nan],\n",
      "        [nan],\n",
      "        [nan],\n",
      "        [nan],\n",
      "        [nan],\n",
      "        [nan],\n",
      "        [nan],\n",
      "        [nan],\n",
      "        [nan],\n",
      "        [nan],\n",
      "        [nan],\n",
      "        [nan],\n",
      "        [nan],\n",
      "        [nan],\n",
      "        [nan],\n",
      "        [nan],\n",
      "        [nan],\n",
      "        [nan],\n",
      "        [nan],\n",
      "        [nan],\n",
      "        [nan],\n",
      "        [nan],\n",
      "        [nan],\n",
      "        [nan],\n",
      "        [nan],\n",
      "        [nan],\n",
      "        [nan],\n",
      "        [nan],\n",
      "        [nan],\n",
      "        [nan],\n",
      "        [nan],\n",
      "        [nan],\n",
      "        [nan],\n",
      "        [nan],\n",
      "        [nan],\n",
      "        [nan],\n",
      "        [nan],\n",
      "        [nan],\n",
      "        [nan],\n",
      "        [nan],\n",
      "        [nan],\n",
      "        [nan],\n",
      "        [nan],\n",
      "        [nan],\n",
      "        [nan],\n",
      "        [nan]], grad_fn=<AddmmBackward0>)\n"
     ]
    },
    {
     "data": {
      "image/png": "[encoded data removed]",
      "text/plain": [
       "<Figure size 432x288 with 1 Axes>"
      ]
     },
     "metadata": {
      "needs_background": "light"
     },
     "output_type": "display_data"
    }
   ],
   "source": [
    "print(y)\n",
    "plt.plot(x.detach().numpy(),y.detach().numpy())\n",
    "plt.xlim([-5,5])\n",
    "plt.ylim([-1,1])\n",
    "plt.show()"
   ]
  },
  {
   "cell_type": "code",
   "execution_count": 84,
   "metadata": {},
   "outputs": [
    {
     "name": "stdout",
     "output_type": "stream",
     "text": [
      "False\n"
     ]
    }
   ],
   "source": [
    "#availabiltiy of GPU and its use is easy in pytorch\n",
    "print(torch.cuda.is_available())"
   ]
  },
  {
   "cell_type": "code",
   "execution_count": 85,
   "metadata": {},
   "outputs": [],
   "source": [
    "device = torch.device(\"cuda\")"
   ]
  },
  {
   "cell_type": "code",
   "execution_count": 86,
   "metadata": {},
   "outputs": [
    {
     "ename": "RuntimeError",
     "evalue": "Found no NVIDIA driver on your system. Please check that you have an NVIDIA GPU and installed a driver from http://www.nvidia.com/Download/index.aspx",
     "output_type": "error",
     "traceback": [
      "\u001b[0;31m---------------------------------------------------------------------------\u001b[0m",
      "\u001b[0;31mRuntimeError\u001b[0m                              Traceback (most recent call last)",
      "\u001b[0;32m<ipython-input-86-b9ddcfcf23ad>\u001b[0m in \u001b[0;36m<module>\u001b[0;34m\u001b[0m\n\u001b[0;32m----> 1\u001b[0;31m \u001b[0mtorch\u001b[0m\u001b[0;34m.\u001b[0m\u001b[0mones\u001b[0m\u001b[0;34m(\u001b[0m\u001b[0;34m(\u001b[0m\u001b[0;36m2\u001b[0m\u001b[0;34m,\u001b[0m\u001b[0;36m3\u001b[0m\u001b[0;34m)\u001b[0m\u001b[0;34m,\u001b[0m\u001b[0mdevice\u001b[0m\u001b[0;34m=\u001b[0m\u001b[0mdevice\u001b[0m\u001b[0;34m)\u001b[0m\u001b[0;34m\u001b[0m\u001b[0;34m\u001b[0m\u001b[0m\n\u001b[0m",
      "\u001b[0;32m~/anaconda3/lib/python3.7/site-packages/torch/cuda/__init__.py\u001b[0m in \u001b[0;36m_lazy_init\u001b[0;34m()\u001b[0m\n\u001b[1;32m    212\u001b[0m         \u001b[0;31m# This function throws if there's a driver initialization error, no GPUs\u001b[0m\u001b[0;34m\u001b[0m\u001b[0;34m\u001b[0m\u001b[0;34m\u001b[0m\u001b[0m\n\u001b[1;32m    213\u001b[0m         \u001b[0;31m# are found or any other error occurs\u001b[0m\u001b[0;34m\u001b[0m\u001b[0;34m\u001b[0m\u001b[0;34m\u001b[0m\u001b[0m\n\u001b[0;32m--> 214\u001b[0;31m         \u001b[0mtorch\u001b[0m\u001b[0;34m.\u001b[0m\u001b[0m_C\u001b[0m\u001b[0;34m.\u001b[0m\u001b[0m_cuda_init\u001b[0m\u001b[0;34m(\u001b[0m\u001b[0;34m)\u001b[0m\u001b[0;34m\u001b[0m\u001b[0;34m\u001b[0m\u001b[0m\n\u001b[0m\u001b[1;32m    215\u001b[0m         \u001b[0;31m# Some of the queued calls may reentrantly call _lazy_init();\u001b[0m\u001b[0;34m\u001b[0m\u001b[0;34m\u001b[0m\u001b[0;34m\u001b[0m\u001b[0m\n\u001b[1;32m    216\u001b[0m         \u001b[0;31m# we need to just return without initializing in that case.\u001b[0m\u001b[0;34m\u001b[0m\u001b[0;34m\u001b[0m\u001b[0;34m\u001b[0m\u001b[0m\n",
      "\u001b[0;31mRuntimeError\u001b[0m: Found no NVIDIA driver on your system. Please check that you have an NVIDIA GPU and installed a driver from http://www.nvidia.com/Download/index.aspx"
     ]
    }
   ],
   "source": [
    "torch.ones((2,3),device=device)"
   ]
  },
  {
   "cell_type": "code",
   "execution_count": null,
   "metadata": {},
   "outputs": [],
   "source": [
    "#In order to perform operations in the variables all of them must defined using same thing \n",
    "#i.e both CPU or GPU\n",
    "device = torch.device(\"cuda\")\n",
    "x = torch.ones((2,3),device = device) #defined x in GPU\n",
    "y = torch.ones((2,3)) #defined on CPU\n",
    "Z = x + y #err because both are not defined for same machine\n",
    "#we can do\n",
    "y = y.to(device)\n",
    "Z = x + y #now on same devi\n",
    "ce\n",
    "\n",
    "#OR\n",
    "Z = x.to(\"cpu\") + y.to(\"cpu\")#taking both to CPU\n",
    "#you can move your evrything to GPU to work faster \n",
    "net = net.to(device)\n",
    "y_target = y_target.to(device)"
   ]
  },
  {
   "cell_type": "code",
   "execution_count": null,
   "metadata": {},
   "outputs": [],
   "source": [
    "#cannot convert directly from gpu to numpy or numpy to gpu\n",
    "#first numpy to cpu to GPU\n",
    "#OR GPU to cpu to numpy\n",
    "X = X.to(\"cpu\").numpy()\n",
    "X = X.to(\"cpu\").to(device)"
   ]
  },
  {
   "cell_type": "code",
   "execution_count": null,
   "metadata": {},
   "outputs": [],
   "source": [
    "net.eval()#changes the mode of the net from training to evaluation mode\n",
    "#is helpful when we have performed dropout and batchnorm during training which we don't perform\n",
    "#test time\n",
    "with torch.no_grad():#means keep no track of grad below this requires_grad = False\n",
    "    y = net(x)\n",
    "    #had we not made requires_grad False it wouldn't matter here But its a good idea to follow\n",
    "    \n",
    "    "
   ]
  },
  {
   "cell_type": "code",
   "execution_count": 1,
   "metadata": {},
   "outputs": [
    {
     "ename": "NameError",
     "evalue": "name 'torch' is not defined",
     "output_type": "error",
     "traceback": [
      "\u001b[0;31m---------------------------------------------------------------------------\u001b[0m",
      "\u001b[0;31mNameError\u001b[0m                                 Traceback (most recent call last)",
      "\u001b[0;32m<ipython-input-1-28275be16de8>\u001b[0m in \u001b[0;36m<module>\u001b[0;34m\u001b[0m\n\u001b[1;32m      1\u001b[0m \u001b[0;31m#to save the weights and biases for future prediction\u001b[0m\u001b[0;34m\u001b[0m\u001b[0;34m\u001b[0m\u001b[0;34m\u001b[0m\u001b[0m\n\u001b[1;32m      2\u001b[0m \u001b[0mpath\u001b[0m \u001b[0;34m=\u001b[0m \u001b[0;34m\"checkpoint.pt\"\u001b[0m\u001b[0;31m#save the path of the file for saving the weights and biases\u001b[0m\u001b[0;34m\u001b[0m\u001b[0;34m\u001b[0m\u001b[0m\n\u001b[0;32m----> 3\u001b[0;31m \u001b[0mtorch\u001b[0m\u001b[0;34m.\u001b[0m\u001b[0msave\u001b[0m\u001b[0;34m(\u001b[0m\u001b[0mnet\u001b[0m\u001b[0;34m.\u001b[0m\u001b[0mstate_dict\u001b[0m\u001b[0;34m(\u001b[0m\u001b[0;34m)\u001b[0m\u001b[0;34m,\u001b[0m\u001b[0mpath\u001b[0m\u001b[0;34m)\u001b[0m\u001b[0;34m\u001b[0m\u001b[0;34m\u001b[0m\u001b[0m\n\u001b[0m",
      "\u001b[0;31mNameError\u001b[0m: name 'torch' is not defined"
     ]
    }
   ],
   "source": [
    "#to save the weights and biases for future prediction\n",
    "path = \"checkpoint.pt\"#save the path of the file for saving the weights and biases\n",
    "torch.save(net.state_dict(),path)\n",
    "\n",
    "#now load this parameters into the new model\n",
    "newModel = Net(1,1)\n",
    "newModel.load_state_dict(torch.load(path))\n",
    "newModel.eval()"
   ]
  },
  {
   "cell_type": "code",
   "execution_count": null,
   "metadata": {},
   "outputs": [],
   "source": []
  }
 ],
 "metadata": {
  "kernelspec": {
   "display_name": "Python 3",
   "language": "python",
   "name": "python3"
  },
  "language_info": {
   "codemirror_mode": {
    "name": "ipython",
    "version": 3
   },
   "file_extension": ".py",
   "mimetype": "text/x-python",
   "name": "python",
   "nbconvert_exporter": "python",
   "pygments_lexer": "ipython3",
   "version": "3.7.6"
  }
 },
 "nbformat": 4,
 "nbformat_minor": 4
}
