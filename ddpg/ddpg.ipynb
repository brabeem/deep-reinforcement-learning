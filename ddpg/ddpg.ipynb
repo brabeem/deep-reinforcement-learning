{
 "cells": [
  {
   "cell_type": "code",
   "execution_count": 1,
   "metadata": {},
   "outputs": [
    {
     "name": "stderr",
     "output_type": "stream",
     "text": [
      "/home/brabeem/anaconda3/lib/python3.7/site-packages/ale_py/roms/utils.py:90: DeprecationWarning: SelectableGroups dict interface is deprecated. Use select.\n",
      "  for external in metadata.entry_points().get(self.group, []):\n"
     ]
    }
   ],
   "source": [
    "from network import Actor\n",
    "from network import Critic\n",
    "import torch\n",
    "import numpy as np\n",
    "import torch.optim as optim\n",
    "from collections import deque,namedtuple\n",
    "import random\n",
    "import copy\n",
    "import torch.nn as nn\n",
    "import gym\n",
    "import matplotlib.pyplot as plt\n",
    "%matplotlib inline\n"
   ]
  },
  {
   "cell_type": "code",
   "execution_count": 2,
   "metadata": {},
   "outputs": [],
   "source": [
    "##class to define the replay_buffer##\n",
    "class replay_buffer():\n",
    "    def __init__(self,buffer_size):\n",
    "        self.memory = deque(maxlen=buffer_size)\n",
    "        self.experience = namedtuple(\"experience\",[\"state\",\"action\",\"reward\",\"next_state\",\"done\"])\n",
    "\n",
    "    def add(self,state,action,reward,next_state,done):\n",
    "        e  = self.experience(state,action,reward,next_state,done)\n",
    "        #print(e.state.shape)\n",
    "        self.memory.append(e)\n",
    "\n",
    "    def sample(self,batch_size):\n",
    "        expereinces = random.sample(self.memory,batch_size)\n",
    "        actions = torch.from_numpy(np.vstack([e.action for e in expereinces if e is not None])).float()\n",
    "        states = torch.from_numpy(np.vstack([e.state for e in expereinces if e is not None])).float()\n",
    "        #print(\"states shape:\",states.shape)\n",
    "        rewards = torch.from_numpy(np.vstack([e.reward for e in expereinces if e is not None])).float()\n",
    "        next_states = torch.from_numpy(np.vstack([e.next_state for e in expereinces if e is not None])).float()\n",
    "        #print(\"next_states:\",next_states.shape)\n",
    "        dones = torch.from_numpy(np.vstack([e.done for e in expereinces if e is not None]).astype(np.uint8)).float()\n",
    "        return (states,actions,rewards,next_states,dones)        \n",
    "    def __len__(self):\n",
    "        return len(self.memory)\n",
    "\n",
    "##class to define the noise for exploration##\n",
    "class OUNoise:\n",
    "    \"\"\"Ornstein-Uhlenbeck process.\"\"\"\n",
    "\n",
    "    def __init__(self, size, seed, mu=0., theta=0.15, sigma=0.2):\n",
    "        \"\"\"Initialize parameters and noise process.\"\"\"\n",
    "        self.mu = mu * np.ones(size)\n",
    "        self.theta = theta\n",
    "        self.sigma = sigma\n",
    "        self.seed = random.seed(seed)\n",
    "        self.reset()\n",
    "\n",
    "    def reset(self):\n",
    "        \"\"\"Reset the internal state (= noise) to mean (mu).\"\"\"\n",
    "        self.state = copy.copy(self.mu)\n",
    "\n",
    "    def sample(self):\n",
    "        \"\"\"Update internal state and return it as a noise sample.\"\"\"\n",
    "        x = self.state\n",
    "        dx = self.theta * (self.mu - x) + self.sigma * np.array([random.random() for i in range(len(x))])\n",
    "        self.state = x + dx\n",
    "        return self.state\n"
   ]
  },
  {
   "cell_type": "code",
   "execution_count": 8,
   "metadata": {},
   "outputs": [],
   "source": [
    "##class to define the agent##\n",
    "class ddpg():\n",
    "    ##initialize the requirements##\n",
    "    def __init__(self,env):\n",
    "        ##Create and initialize the actor and critic networks##\n",
    "        self.env  = env\n",
    "        self.local_actor = Actor(env.observation_space.shape[0],env.action_space.shape[0])\n",
    "        self.target_actor = Actor(env.observation_space.shape[0],env.action_space.shape[0])\n",
    "        self.local_critic = Critic(env.observation_space.shape[0],env.action_space.shape[0])\n",
    "        self.target_critic = Critic(env.observation_space.shape[0],env.action_space.shape[0])\n",
    "        ##initialize some hyperparameters##\n",
    "        self._init_hyperparameters()\n",
    "        ##define optimizers for actor and critic network##\n",
    "        self.actor_optimizer = optim.Adam(self.local_actor.parameters(),lr=self.LR,weight_decay=self.weight_decay)\n",
    "        self.critic_optimizer = optim.Adam(self.local_critic.parameters(),lr=self.LR,weight_decay=self.weight_decay)\n",
    "        ##make the parameters of actor and critic same##\n",
    "        self.target_actor.load_state_dict(self.local_actor.state_dict())\n",
    "        self.target_critic.load_state_dict(self.local_critic.state_dict())\n",
    "        ##initialize memory##\n",
    "        self.memory = replay_buffer(self.buffer_size)\n",
    "        ##initialize noise##\n",
    "        self.seed = random.seed(1)\n",
    "        self.noise = OUNoise(env.action_space.shape[0],self.seed,self.mu,self.theta,self.sigma)\n",
    "   \n",
    "    ##initialize the hyperparmeters##\n",
    "    def _init_hyperparameters(self):\n",
    "        self.gamma = 0.999\n",
    "        self.LR = 1e3\n",
    "        self.num_episodes = 50\n",
    "        self.buffer_size = 1000000\n",
    "        self.batch_size = 128  \n",
    "        self.mu = 0\n",
    "        self.theta = 0.15\n",
    "        self.sigma = 0.2\n",
    "        self.max_tstep_per_eps = 200\n",
    "        self.tau = 1e-2\n",
    "        self.weight_decay = 0.0001\n",
    "   \n",
    "\n",
    "    ##define how to get a action with or without noise,return numpy array##\n",
    "    def get_action(self,state,with_noise=True):\n",
    "        ##do normally ## at last add noise if with_noise is True##\n",
    "        self.local_actor.eval()\n",
    "        with torch.no_grad():\n",
    "            action = np.array(self.local_actor(state))\n",
    "        self.local_actor.train()\n",
    "        if with_noise:\n",
    "            noise = self.noise.sample()\n",
    "            action = action + noise\n",
    "        return np.clip(action,-1,1) \n",
    "   \n",
    "    \n",
    "    ##update the network parameters according to a sampeld batch##\n",
    "    def update(self):\n",
    "        states,actions,rewards,next_states,dones = self.memory.sample(self.batch_size)\n",
    "        #print(states.shape)\n",
    "        ##updating critic network##\n",
    "        Q_target = self.target_critic(next_states,self.target_actor(next_states).detach()).detach()\n",
    "        Q_target = rewards + self.gamma * Q_target* (1-dones)\n",
    "        Q_expected = self.local_critic(states,actions)\n",
    "        critic_loss = nn.MSELoss()(Q_target,Q_expected)\n",
    "        self.critic_optimizer.zero_grad()\n",
    "        critic_loss.backward()\n",
    "        self.critic_optimizer.step()\n",
    "\n",
    "        ##updating actor network##\n",
    "        #print(states.shape)\n",
    "        Q_loss = -self.local_critic(states,self.local_actor(states)).mean()\n",
    "        self.actor_optimizer.zero_grad()\n",
    "        self.critic_optimizer.zero_grad()\n",
    "        Q_loss.backward()\n",
    "        self.actor_optimizer.step()\n",
    "\n",
    "        ##soft update the target networks##\n",
    "        self.soft_update(self.local_actor,self.target_actor)\n",
    "        self.soft_update(self.local_critic,self.target_critic)\n",
    "   \n",
    "    ##soft updates the target network from the infos of local_networks##\n",
    "    def soft_update(self,local_net,target_net):\n",
    "        for local,target in zip(local_net.parameters(),target_net.parameters()):\n",
    "            target.data.copy_(local.data * self.tau + target.data *(1-self.tau))\n",
    "            \n",
    "    \n",
    "    ##function that learns##\n",
    "    def learn(self):\n",
    "        score_per_eps = deque([],10)\n",
    "        score_across_all_eps = []\n",
    "        for i_eps in range(1,self.num_episodes+1):\n",
    "            state = self.env.reset()\n",
    "            #print(state.shape)\n",
    "            score = 0\n",
    "            for t_step in range(self.max_tstep_per_eps):\n",
    "                action = self.get_action(torch.tensor(state))\n",
    "                next_state,reward,done,_= self.env.step(action)\n",
    "                #print(next_state.shape)\n",
    "                self.memory.add(state,action,reward,next_state,done)\n",
    "                state = next_state\n",
    "                score += reward\n",
    "                ##now,update the actor and critic networks##\n",
    "                if len(self.memory)>self.batch_size:\n",
    "                    self.update()\n",
    "                if done is True:\n",
    "                    break\n",
    "            score_per_eps.append(score)\n",
    "            score_across_all_eps.append(score)\n",
    "            print(\"\\r\",\"In episode:{}/{} With average of {}\".format(i_eps,self.num_episodes,np.mean(score_per_eps)),end=\"\")\n",
    "        plt.plot(np.arange(len(score_across_all_eps)),np.array(score_across_all_eps))\n"
   ]
  },
  {
   "cell_type": "code",
   "execution_count": 9,
   "metadata": {},
   "outputs": [
    {
     "name": "stdout",
     "output_type": "stream",
     "text": [
      " In episode:50/50 With average of -1186.9597635873556"
     ]
    },
    {
     "data": {
      "image/png": "[encoded data removed]",
      "text/plain": [
       "<Figure size 432x288 with 1 Axes>"
      ]
     },
     "metadata": {
      "needs_background": "light"
     },
     "output_type": "display_data"
    }
   ],
   "source": [
    "env = gym.make(\"Pendulum-v1\")\n",
    "agent = ddpg(env)\n",
    "agent.learn()"
   ]
  },
  {
   "cell_type": "code",
   "execution_count": null,
   "metadata": {},
   "outputs": [],
   "source": []
  }
 ],
 "metadata": {
  "interpreter": {
   "hash": "a16280308017aeff994d6f82fa17551f539861d5dfe26be943aae8003a5aefe3"
  },
  "kernelspec": {
   "display_name": "Python 3.7.6 64-bit ('base': conda)",
   "language": "python",
   "name": "python376jvsc74a57bd0a16280308017aeff994d6f82fa17551f539861d5dfe26be943aae8003a5aefe3"
  },
  "language_info": {
   "codemirror_mode": {
    "name": "ipython",
    "version": 3
   },
   "file_extension": ".py",
   "mimetype": "text/x-python",
   "name": "python",
   "nbconvert_exporter": "python",
   "pygments_lexer": "ipython3",
   "version": "3.7.6"
  }
 },
 "nbformat": 4,
 "nbformat_minor": 2
}
