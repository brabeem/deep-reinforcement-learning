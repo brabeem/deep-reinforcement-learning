{
 "cells": [
  {
   "cell_type": "code",
   "execution_count": 117,
   "metadata": {},
   "outputs": [
    {
     "name": "stdout",
     "output_type": "stream",
     "text": [
      "True\n",
      "False\n",
      "True\n"
     ]
    }
   ],
   "source": [
    "##use of any and all in python##\n",
    "print(any([True,False,False,False]))##anyone of the element is True then return True##\n",
    "print(all([True,False,False,False]))##if all the elements of are True then return True##\n",
    "print(all([True,True,True]))"
   ]
  },
  {
   "cell_type": "code",
   "execution_count": 114,
   "metadata": {},
   "outputs": [
    {
     "name": "stdout",
     "output_type": "stream",
     "text": [
      "home/brabeem/Documents/deepLearning/codes/saving.pth\n"
     ]
    }
   ],
   "source": [
    "import os\n",
    "path = os.path.join(\"home/brabeem/Documents/deepLearning/codes/\",\"saving.pth\")\n",
    "print(path)"
   ]
  },
  {
   "cell_type": "code",
   "execution_count": 105,
   "metadata": {},
   "outputs": [
    {
     "data": {
      "text/plain": [
       "array([[7, 8, 9],\n",
       "       [4, 5, 6],\n",
       "       [1, 2, 3]])"
      ]
     },
     "execution_count": 105,
     "metadata": {},
     "output_type": "execute_result"
    }
   ],
   "source": [
    "#lecture notes\n",
    "#transition_prob = p(s_t+1 |s_t,a_t) \n",
    "#markov's property means s_t+1 only depends on s_t\n",
    "#and not on s_t-1\n",
    "#but observations don't follow markov's property i.e so you can't decide the next state just \n",
    "#on the basis of present observation.\n",
    "import numpy as np\n",
    "orig = np.array([[1,2,3],\n",
    "[4,5,6],\n",
    "[7,8,9]\n",
    "])\n",
    "indices = np.array([2,1,0])\n",
    "orig[indices]"
   ]
  },
  {
   "cell_type": "code",
   "execution_count": 120,
   "metadata": {},
   "outputs": [
    {
     "name": "stdout",
     "output_type": "stream",
     "text": [
      "tensor([[ 1,  2,  3,  7,  8,  9, 13, 14, 15],\n",
      "        [ 4,  5,  6, 10, 11, 12, 16, 17, 18]])\n"
     ]
    }
   ],
   "source": [
    "import numpy as np\n",
    "import torch as T\n",
    "A = T.tensor([[1,2,3],[4,5,6]])\n",
    "B = T.tensor([[7,8,9],[10,11,12]])\n",
    "C = T.tensor([[13,14,15],[16,17,18]])\n",
    "\n",
    "listi = [   A ,  B , C  ]\n",
    "print(T.cat(listi,1))"
   ]
  },
  {
   "cell_type": "code",
   "execution_count": 4,
   "metadata": {},
   "outputs": [],
   "source": [
    "##returning function i.e first class function where we can treat functions as an object and return it##\n",
    "def outer_func(msg):\n",
    "    def inner_func():\n",
    "        print(\"I am inner function with message {}\".format(msg))\n",
    "    return inner_func"
   ]
  },
  {
   "cell_type": "code",
   "execution_count": 6,
   "metadata": {},
   "outputs": [
    {
     "name": "stdout",
     "output_type": "stream",
     "text": [
      "Run the inner function now....\n",
      "I am inner function with message brabeem\n",
      "I am inner function with message sapkota\n"
     ]
    }
   ],
   "source": [
    "outer1 = outer_func(\"brabeem\")\n",
    "print(\"Run the inner function now....\")\n",
    "outer1()\n",
    "outer2 = outer_func(\"sapkota\")\n",
    "outer2()"
   ]
  },
  {
   "cell_type": "code",
   "execution_count": 83,
   "metadata": {},
   "outputs": [],
   "source": [
    "def outer(orig_func):\n",
    "    def inner(*args,**kwargs):\n",
    "        print(\"calling from inner.....\")\n",
    "        return orig_func(*args,**kwargs)\n",
    "    return inner"
   ]
  },
  {
   "cell_type": "code",
   "execution_count": 84,
   "metadata": {},
   "outputs": [],
   "source": [
    "@outer\n",
    "def display(name , age):\n",
    "    print(\"My name is {}.I am {}.\".format(name,age))"
   ]
  },
  {
   "cell_type": "code",
   "execution_count": 86,
   "metadata": {},
   "outputs": [
    {
     "name": "stdout",
     "output_type": "stream",
     "text": [
      "calling from inner.....\n",
      "My name is brabeem.I am 22.\n"
     ]
    }
   ],
   "source": [
    "display(\"brabeem\",22)"
   ]
  },
  {
   "cell_type": "code",
   "execution_count": 76,
   "metadata": {},
   "outputs": [],
   "source": [
    "def my_func(*nums):\n",
    "    print(nums)\n",
    "    # print(keyargs)\n",
    "    \"\"\" total = 0\n",
    "    for num in nums:\n",
    "        total += num\n",
    "    for key,value in keyargs.items():\n",
    "        print(\"{}:{}\".format(key,value)) \"\"\"\n",
    "\n",
    "#we are not passing a tuple but all the values of tuple are arguments is denoted by *(1,2,3,4) i.e first agrument 1\n",
    "#second 2 and so on\n",
    "#if we want to receive arbitary number of arguments then we have to use *nums,*args like that while defining function\n",
    "#that gives all the positional arguments as tuple to the args\n",
    "#if we want to pass arbitary number of keyword arguments then we have to use **kwargs ,**dict like that while defining\n",
    "#function that gives all the keyword arguments to as dictionary to the dict or kwargs"
   ]
  },
  {
   "cell_type": "code",
   "execution_count": 77,
   "metadata": {},
   "outputs": [
    {
     "name": "stdout",
     "output_type": "stream",
     "text": [
      "(1, 2, 3, 4, 5)\n"
     ]
    }
   ],
   "source": [
    "my_func(*(1,2,3,4,5))"
   ]
  },
  {
   "cell_type": "code",
   "execution_count": 91,
   "metadata": {},
   "outputs": [],
   "source": [
    "def timer(orig_func):\n",
    "    import time\n",
    "    def extension(*args):\n",
    "        t1 = time.time()\n",
    "        result = orig_func(*args)\n",
    "        t2 = time.time() - t1\n",
    "        print(\"Ran in {} secs\".format(t2))\n",
    "        return result\n",
    "    return extension"
   ]
  },
  {
   "cell_type": "code",
   "execution_count": 95,
   "metadata": {},
   "outputs": [],
   "source": [
    "import time\n",
    "@timer\n",
    "def display(nam,thar):\n",
    "    time.sleep(1)\n",
    "    print(\"My name is {} {} hau.\".format(nam,thar))\n",
    "    "
   ]
  },
  {
   "cell_type": "code",
   "execution_count": 98,
   "metadata": {},
   "outputs": [
    {
     "name": "stdout",
     "output_type": "stream",
     "text": [
      "My name is Brabeem sapkota hau.\n",
      "Ran in 1.001448154449463 secs\n"
     ]
    }
   ],
   "source": [
    "display(\"Brabeem\",\"sapkota\")"
   ]
  }
 ],
 "metadata": {
  "kernelspec": {
   "display_name": "Python 3",
   "language": "python",
   "name": "python3"
  },
  "language_info": {
   "codemirror_mode": {
    "name": "ipython",
    "version": 3
   },
   "file_extension": ".py",
   "mimetype": "text/x-python",
   "name": "python",
   "nbconvert_exporter": "python",
   "pygments_lexer": "ipython3",
   "version": "3.7.6"
  }
 },
 "nbformat": 4,
 "nbformat_minor": 4
}
